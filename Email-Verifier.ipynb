{
 "cells": [
  {
   "cell_type": "code",
   "execution_count": 15,
   "id": "c21ffc61",
   "metadata": {},
   "outputs": [],
   "source": [
    "from selenium import webdriver\n",
    "from selenium.webdriver.common.by import By\n",
    "from selenium.webdriver.support.wait import WebDriverWait\n",
    "from selenium.webdriver.support import expected_conditions as EC\n",
    "from selenium.webdriver.chrome.service import Service\n",
    "from selenium.webdriver.chrome.options import Options\n",
    "from webdriver_manager.chrome import ChromeDriverManager"
   ]
  },
  {
   "cell_type": "code",
   "execution_count": 16,
   "id": "6529c8fe",
   "metadata": {},
   "outputs": [],
   "source": [
    "url=\"https://www.verifyemailaddress.org\""
   ]
  },
  {
   "cell_type": "code",
   "execution_count": 17,
   "id": "975eb51a",
   "metadata": {},
   "outputs": [],
   "source": [
    "# Set up Chrome options\n",
    "chrome_options = Options()\n",
    "chrome_options.add_argument(\"--start-maximized\")\n",
    "\n",
    "# Initialize WebDriver with auto driver management\n",
    "driver = webdriver.Chrome(\n",
    "    service=Service(ChromeDriverManager().install()), \n",
    "    options=chrome_options\n",
    ")"
   ]
  },
  {
   "cell_type": "code",
   "execution_count": 18,
   "id": "95087653",
   "metadata": {},
   "outputs": [],
   "source": [
    "driver.set_page_load_timeout(300)\n",
    "driver.get(url)"
   ]
  },
  {
   "cell_type": "code",
   "execution_count": 19,
   "id": "b1113968",
   "metadata": {},
   "outputs": [],
   "source": [
    "email_list=['khelifi.ali1234@gmail.com','esef.456dfdq@esprit.tn','ahmed.mahfoudhi@outloook.fr','aaa@gmail.com']\n",
    "validounon_list=[] "
   ]
  },
  {
   "cell_type": "code",
   "execution_count": 20,
   "id": "675f302a",
   "metadata": {},
   "outputs": [],
   "source": [
    "for i in email_list:\n",
    "    searchbox = WebDriverWait(driver, 10).until(\n",
    "        EC.element_to_be_clickable((By.XPATH, \"/html/body/form/div/div[2]/fieldset/div/input\"))\n",
    "    )\n",
    "    searchbox.send_keys(i) \n",
    "    \n",
    "    l = driver.find_element(By.XPATH, \"/html/body/form/div/div[2]/fieldset/button[1]\")\n",
    "    driver.execute_script(\"arguments[0].click();\", l)\n",
    "    \n",
    "    # table content\n",
    "    table = driver.find_element(By.XPATH, \"/html/body/main/section/ul/li[1]\")\n",
    "    validounon_list.append(table.text)\n",
    "    \n",
    "    driver.get(url)"
   ]
  },
  {
   "cell_type": "code",
   "execution_count": 21,
   "id": "3cd59867",
   "metadata": {},
   "outputs": [
    {
     "data": {
      "text/plain": [
       "['khelifi.ali1234@gmail.com seems to be valid',\n",
       " 'esef.456dfdq@esprit.tn seems not to be valid',\n",
       " 'ahmed.mahfoudhi@outloook.fr seems to be valid',\n",
       " 'aaa@gmail.com seems not to be valid']"
      ]
     },
     "execution_count": 21,
     "metadata": {},
     "output_type": "execute_result"
    }
   ],
   "source": [
    "validounon_list"
   ]
  },
  {
   "cell_type": "code",
   "execution_count": 22,
   "id": "d8968a56",
   "metadata": {},
   "outputs": [
    {
     "name": "stdout",
     "output_type": "stream",
     "text": [
      "email valid\n",
      "email not valid\n",
      "email valid\n",
      "email not valid\n"
     ]
    }
   ],
   "source": [
    "for i in validounon_list:\n",
    "    if \"seems not to be valid\" in i:\n",
    "        print(\"email not valid\")\n",
    "    else :\n",
    "        print(\"email valid\")"
   ]
  },
  {
   "cell_type": "code",
   "execution_count": null,
   "id": "8a5998e3",
   "metadata": {},
   "outputs": [],
   "source": []
  }
 ],
 "metadata": {
  "kernelspec": {
   "display_name": "Python 3 (ipykernel)",
   "language": "python",
   "name": "python3"
  },
  "language_info": {
   "codemirror_mode": {
    "name": "ipython",
    "version": 3
   },
   "file_extension": ".py",
   "mimetype": "text/x-python",
   "name": "python",
   "nbconvert_exporter": "python",
   "pygments_lexer": "ipython3",
   "version": "3.8.8"
  }
 },
 "nbformat": 4,
 "nbformat_minor": 5
}
