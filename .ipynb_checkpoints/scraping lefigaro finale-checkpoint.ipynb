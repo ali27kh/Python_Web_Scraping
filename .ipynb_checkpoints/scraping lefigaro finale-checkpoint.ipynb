{
 "cells": [
  {
   "cell_type": "code",
   "execution_count": 1,
   "id": "044b7d97",
   "metadata": {},
   "outputs": [],
   "source": [
    "from selenium import webdriver\n",
    "from selenium.webdriver.common.by import By\n",
    "from selenium.webdriver.support.wait import WebDriverWait\n",
    "from selenium.webdriver.support import expected_conditions as EC\n",
    "from selenium.webdriver.chrome.service import Service\n",
    "from selenium.webdriver.chrome.options import Options\n",
    "from webdriver_manager.chrome import ChromeDriverManager\n",
    "import pandas as pd\n",
    "import time"
   ]
  },
  {
   "cell_type": "markdown",
   "id": "a5287e3c",
   "metadata": {},
   "source": [
    "## Partition base"
   ]
  },
  {
   "cell_type": "code",
   "execution_count": 2,
   "id": "a4f03a19",
   "metadata": {},
   "outputs": [],
   "source": [
    "dt=pd.read_excel(r\"entreprises_france_2022.xlsx\")"
   ]
  },
  {
   "cell_type": "code",
   "execution_count": 3,
   "id": "3e29c2bb",
   "metadata": {},
   "outputs": [],
   "source": [
    "df=dt.iloc[1:5,:]"
   ]
  },
  {
   "cell_type": "markdown",
   "id": "8f6e8fbb",
   "metadata": {},
   "source": [
    "## Scraping "
   ]
  },
  {
   "cell_type": "code",
   "execution_count": 4,
   "id": "ba7f11f0",
   "metadata": {},
   "outputs": [],
   "source": [
    "url=\"https://entreprises.lefigaro.fr/camping-de-nogarede-66/entreprise-910468644\""
   ]
  },
  {
   "cell_type": "code",
   "execution_count": 5,
   "id": "f3ec1fe6",
   "metadata": {},
   "outputs": [],
   "source": [
    "# Set up Chrome options\n",
    "chrome_options = Options()\n",
    "chrome_options.add_argument(\"--start-maximized\")\n",
    "\n",
    "# Initialize WebDriver with auto driver management\n",
    "driver = webdriver.Chrome(\n",
    "    service=Service(ChromeDriverManager().install()), \n",
    "    options=chrome_options\n",
    ")"
   ]
  },
  {
   "cell_type": "code",
   "execution_count": 6,
   "id": "b91e3995",
   "metadata": {},
   "outputs": [],
   "source": [
    "driver.get(url)"
   ]
  },
  {
   "cell_type": "code",
   "execution_count": 7,
   "id": "cf8daf20",
   "metadata": {},
   "outputs": [],
   "source": [
    "a=df[\"Siren\"]"
   ]
  },
  {
   "cell_type": "code",
   "execution_count": 8,
   "id": "5ddc1180",
   "metadata": {},
   "outputs": [
    {
     "data": {
      "text/plain": [
       "1    910482355\n",
       "2    910500693\n",
       "3    910499896\n",
       "4    910468644\n",
       "Name: Siren, dtype: int64"
      ]
     },
     "execution_count": 8,
     "metadata": {},
     "output_type": "execute_result"
    }
   ],
   "source": [
    "a"
   ]
  },
  {
   "cell_type": "code",
   "execution_count": 9,
   "id": "fd3af146",
   "metadata": {},
   "outputs": [],
   "source": [
    "siren_list = []\n",
    "for i in a:\n",
    "    siren_list.append(i)"
   ]
  },
  {
   "cell_type": "code",
   "execution_count": 10,
   "id": "2ade4445",
   "metadata": {},
   "outputs": [],
   "source": [
    "mandataire_list=[] \n",
    "activite_list=[] "
   ]
  },
  {
   "cell_type": "code",
   "execution_count": 11,
   "id": "1f4ce714",
   "metadata": {},
   "outputs": [],
   "source": [
    "def process(text):\n",
    "    t=0\n",
    "    text=text.split('\\n')\n",
    "    for i in text:\n",
    "        if 'Mandataires sociaux' in i:\n",
    "            t=1\n",
    "            mandataire_list.append(i)\n",
    "            print('existe mandataire')\n",
    "    if t==0:\n",
    "        mandataire_list.append('introuvable')"
   ]
  },
  {
   "cell_type": "code",
   "execution_count": 12,
   "id": "b5174b9d",
   "metadata": {},
   "outputs": [],
   "source": [
    "def process1(text):\n",
    "    t=0\n",
    "    text=text.split('\\n')\n",
    "    for i in text:\n",
    "        if 'Activité :' in i:\n",
    "            t=1\n",
    "            activite_list.append(i)\n",
    "            print('existe activite')\n",
    "    if t==0:\n",
    "        activite_list.append('introuvable')"
   ]
  },
  {
   "cell_type": "code",
   "execution_count": 13,
   "id": "7dbcdd4d",
   "metadata": {},
   "outputs": [
    {
     "name": "stdout",
     "output_type": "stream",
     "text": [
      "Erreur lors de l'extraction des données pour 910482355: Message: no such element: Unable to locate element: {\"method\":\"xpath\",\"selector\":\"/html/body/div[2]/div/div/div[2]/div[1]/div/main/div/div/div[5]/div[2]\"}\n",
      "  (Session info: chrome=131.0.6778.265); For documentation on this error, please visit: https://www.selenium.dev/documentation/webdriver/troubleshooting/errors#no-such-element-exception\n",
      "Stacktrace:\n",
      "\tGetHandleVerifier [0x00007FF78E7E2775+28773]\n",
      "\t(No symbol) [0x00007FF78E74AFB0]\n",
      "\t(No symbol) [0x00007FF78E5E552A]\n",
      "\t(No symbol) [0x00007FF78E638EAE]\n",
      "\t(No symbol) [0x00007FF78E63919C]\n",
      "\t(No symbol) [0x00007FF78E6823F7]\n",
      "\t(No symbol) [0x00007FF78E65EFDF]\n",
      "\t(No symbol) [0x00007FF78E67F1A4]\n",
      "\t(No symbol) [0x00007FF78E65ED43]\n",
      "\t(No symbol) [0x00007FF78E62A548]\n",
      "\t(No symbol) [0x00007FF78E62B6B1]\n",
      "\tGetHandleVerifier [0x00007FF78EB0F45D+3358029]\n",
      "\tGetHandleVerifier [0x00007FF78EB2430D+3443709]\n",
      "\tGetHandleVerifier [0x00007FF78EB183FD+3394797]\n",
      "\tGetHandleVerifier [0x00007FF78E8A929B+842635]\n",
      "\t(No symbol) [0x00007FF78E75654F]\n",
      "\t(No symbol) [0x00007FF78E751FA4]\n",
      "\t(No symbol) [0x00007FF78E75213D]\n",
      "\t(No symbol) [0x00007FF78E741629]\n",
      "\tBaseThreadInitThunk [0x00007FFFD8FD7374+20]\n",
      "\tRtlUserThreadStart [0x00007FFFDA1BCC91+33]\n",
      "\n"
     ]
    }
   ],
   "source": [
    "for i in siren_list:\n",
    "    try:\n",
    "        searchbox = WebDriverWait(driver, 10).until(\n",
    "            EC.element_to_be_clickable((By.XPATH, \"/html/body/div[2]/div/header/div[2]/div[1]/div/nav/div[4]/div/form/fieldset/input[1]\"))\n",
    "        )\n",
    "        searchbox.send_keys(i)\n",
    "        time.sleep(10)\n",
    "\n",
    "        l = driver.find_element(By.XPATH, \"/html/body/div[2]/div/header/div[2]/div[1]/div/nav/div[4]/div/form/fieldset/input[2]\")\n",
    "        driver.execute_script(\"arguments[0].click();\", l)\n",
    "        \n",
    "        try:\n",
    "            table = driver.find_element(By.XPATH, \"/html/body/div[2]/div/div/div[2]/div[1]/div/main/div/div/div[5]/div[2]\")\n",
    "            table_data = table.text.split('\\n')\n",
    "\n",
    "            mandataires = []\n",
    "            activites = []\n",
    "\n",
    "            for line in table_data:\n",
    "                if 'Mandataires sociaux' in line:\n",
    "                    mandataires.append(line.strip())\n",
    "                elif 'Activité :' in line:\n",
    "                    activites.append(line.strip())\n",
    "\n",
    "            if mandataires:\n",
    "                mandataire_list.append(\", \".join(mandataires))\n",
    "            else:\n",
    "                mandataire_list.append('introuvable')\n",
    "\n",
    "            if activites:\n",
    "                activite_list.append(\", \".join(activites)) \n",
    "            else:\n",
    "                activite_list.append('introuvable')\n",
    "        \n",
    "        except Exception as e:\n",
    "            print(f\"Erreur lors de l'extraction des données pour {i}: {str(e)}\")\n",
    "            mandataire_list.append('introuvable')\n",
    "            activite_list.append('introuvable')\n",
    "\n",
    "    except Exception as e:\n",
    "        print(f\"Erreur lors de la recherche pour {i}: {str(e)}\")\n",
    "        mandataire_list.append('introuvable')\n",
    "        activite_list.append('introuvable')\n",
    "\n",
    "    driver.get(url)"
   ]
  },
  {
   "cell_type": "code",
   "execution_count": 14,
   "id": "cb5aa28c",
   "metadata": {},
   "outputs": [
    {
     "data": {
      "text/plain": [
       "['introuvable',\n",
       " 'Mandataires sociaux : Démission de M Jérôme SCHULER (Co-Gérant), confirmation de M Sebastien LECERF (Gérant), Mandataires sociaux : Nomination de M Sébastien LECERF (Gérant), nomination de M Jérôme SCHULER (Gérant), Mandataires sociaux : Gérant : LECERF Sébastien, Stéphane, André ; Gérant : SCHULER Jérôme, Pierre, Alexis',\n",
       " 'Mandataires sociaux : Nomination de M Antonin Viaud (Président), nomination de M Clement Viaud (Directeur Général), Mandataires sociaux : Président : Viaud, Antonin, Directeur général : Viaud, Clement',\n",
       " 'Mandataires sociaux : Nomination de M Patrice COMBRES (Gérant)']"
      ]
     },
     "execution_count": 14,
     "metadata": {},
     "output_type": "execute_result"
    }
   ],
   "source": [
    "mandataire_list"
   ]
  },
  {
   "cell_type": "code",
   "execution_count": 15,
   "id": "15342de6",
   "metadata": {},
   "outputs": [
    {
     "data": {
      "text/plain": [
       "['introuvable',\n",
       " \"Activité : La production et la vente de bières artisanales et généralement de toutes boissons. La location de tireuses à bières et de matériels liés à l'activité. Vente de produits dérivés et épicerie sèche. L'organisation d'événements autour de l'activité et d'ateliers. Plus généralement toute activité connexe et complémentaire, Activité : la production et la vente de bières artisanales et généralement de toute boissons ; la location de tireuses et matériels liés à l'activité ; la vente de produits dérivés et épicerie sèche ; l'organisation d'évènements autour de l'activité et d'ateliers ; et de toute activité connexe et complémentaire.\",\n",
       " \"Activité : - La conception, le développement, la fabrication, la distribution, la commercialisation de pièces détachées et d'accessoires de cycles. - Les activités de bureau d'études. - La prise, l'acquisition, l'exploitation ou la cession de toutes marques, de tous procédés, brevets et droits de propriété intellectuelle concernant ces activités, Activité : La conception, le développement, la fabrication, la distribution, la commercialisation de pièces détachées et d'accessoires de cycles. Les activités de bureau d'études. La prise, l'acquisition, l'exploitation ou la cession de toutes marques, de tous procédés, brevets et droits de propriété intellectuelle concernant ces activités.\",\n",
       " 'Activité : Hôtellerie de plein air']"
      ]
     },
     "execution_count": 15,
     "metadata": {},
     "output_type": "execute_result"
    }
   ],
   "source": [
    "activite_list"
   ]
  },
  {
   "cell_type": "code",
   "execution_count": 16,
   "id": "8011e9a2",
   "metadata": {},
   "outputs": [],
   "source": [
    "c1=pd.DataFrame(mandataire_list,columns = ['Mandataire'])"
   ]
  },
  {
   "cell_type": "code",
   "execution_count": 17,
   "id": "323dddfc",
   "metadata": {},
   "outputs": [],
   "source": [
    "c2=pd.DataFrame(activite_list,columns = ['Description activité'])"
   ]
  },
  {
   "cell_type": "code",
   "execution_count": 18,
   "id": "ef57e151",
   "metadata": {},
   "outputs": [],
   "source": [
    "c1.to_excel(r'mandataire_p1.xlsx', index = False)"
   ]
  },
  {
   "cell_type": "code",
   "execution_count": 19,
   "id": "f71b8124",
   "metadata": {},
   "outputs": [],
   "source": [
    "c2.to_excel(r'activite_p1.xlsx', index = False)"
   ]
  }
 ],
 "metadata": {
  "kernelspec": {
   "display_name": "Python 3 (ipykernel)",
   "language": "python",
   "name": "python3"
  },
  "language_info": {
   "codemirror_mode": {
    "name": "ipython",
    "version": 3
   },
   "file_extension": ".py",
   "mimetype": "text/x-python",
   "name": "python",
   "nbconvert_exporter": "python",
   "pygments_lexer": "ipython3",
   "version": "3.8.8"
  }
 },
 "nbformat": 4,
 "nbformat_minor": 5
}
